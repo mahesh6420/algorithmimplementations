{
 "cells": [
  {
   "cell_type": "markdown",
   "metadata": {},
   "source": [
    "## Testing the implementation of Meta Llama 3"
   ]
  },
  {
   "cell_type": "code",
   "execution_count": 1,
   "metadata": {},
   "outputs": [
    {
     "name": "stdout",
     "output_type": "stream",
     "text": [
      "Requirement already satisfied: huggingface-hub in c:\\users\\mahesh sunuwar\\miniconda3\\envs\\pytorch311\\lib\\site-packages (0.22.2)\n",
      "Requirement already satisfied: filelock in c:\\users\\mahesh sunuwar\\miniconda3\\envs\\pytorch311\\lib\\site-packages (from huggingface-hub) (3.9.0)\n",
      "Requirement already satisfied: fsspec>=2023.5.0 in c:\\users\\mahesh sunuwar\\miniconda3\\envs\\pytorch311\\lib\\site-packages (from huggingface-hub) (2024.3.1)\n",
      "Requirement already satisfied: packaging>=20.9 in c:\\users\\mahesh sunuwar\\miniconda3\\envs\\pytorch311\\lib\\site-packages (from huggingface-hub) (24.0)\n",
      "Requirement already satisfied: pyyaml>=5.1 in c:\\users\\mahesh sunuwar\\miniconda3\\envs\\pytorch311\\lib\\site-packages (from huggingface-hub) (6.0.1)\n",
      "Requirement already satisfied: requests in c:\\users\\mahesh sunuwar\\miniconda3\\envs\\pytorch311\\lib\\site-packages (from huggingface-hub) (2.31.0)\n",
      "Requirement already satisfied: tqdm>=4.42.1 in c:\\users\\mahesh sunuwar\\miniconda3\\envs\\pytorch311\\lib\\site-packages (from huggingface-hub) (4.66.2)\n",
      "Requirement already satisfied: typing-extensions>=3.7.4.3 in c:\\users\\mahesh sunuwar\\miniconda3\\envs\\pytorch311\\lib\\site-packages (from huggingface-hub) (4.11.0)\n",
      "Requirement already satisfied: colorama in c:\\users\\mahesh sunuwar\\miniconda3\\envs\\pytorch311\\lib\\site-packages (from tqdm>=4.42.1->huggingface-hub) (0.4.6)\n",
      "Requirement already satisfied: charset-normalizer<4,>=2 in c:\\users\\mahesh sunuwar\\miniconda3\\envs\\pytorch311\\lib\\site-packages (from requests->huggingface-hub) (3.3.2)\n",
      "Requirement already satisfied: idna<4,>=2.5 in c:\\users\\mahesh sunuwar\\miniconda3\\envs\\pytorch311\\lib\\site-packages (from requests->huggingface-hub) (2.10)\n",
      "Requirement already satisfied: urllib3<3,>=1.21.1 in c:\\users\\mahesh sunuwar\\miniconda3\\envs\\pytorch311\\lib\\site-packages (from requests->huggingface-hub) (2.2.1)\n",
      "Requirement already satisfied: certifi>=2017.4.17 in c:\\users\\mahesh sunuwar\\miniconda3\\envs\\pytorch311\\lib\\site-packages (from requests->huggingface-hub) (2023.7.22)\n"
     ]
    }
   ],
   "source": [
    "! pip install huggingface-hub"
   ]
  },
  {
   "cell_type": "code",
   "execution_count": null,
   "metadata": {},
   "outputs": [],
   "source": []
  }
 ],
 "metadata": {
  "kernelspec": {
   "display_name": "pytorch311",
   "language": "python",
   "name": "python3"
  },
  "language_info": {
   "codemirror_mode": {
    "name": "ipython",
    "version": 3
   },
   "file_extension": ".py",
   "mimetype": "text/x-python",
   "name": "python",
   "nbconvert_exporter": "python",
   "pygments_lexer": "ipython3",
   "version": "3.11.8"
  }
 },
 "nbformat": 4,
 "nbformat_minor": 2
}
